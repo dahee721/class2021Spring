{
  "nbformat": 4,
  "nbformat_minor": 0,
  "metadata": {
    "colab": {
      "name": "Untitled1.ipynb",
      "provenance": [],
      "authorship_tag": "ABX9TyMY43s7UQr/EkH9TpyG4RaP",
      "include_colab_link": true
    },
    "kernelspec": {
      "name": "python3",
      "display_name": "Python 3"
    }
  },
  "cells": [
    {
      "cell_type": "markdown",
      "metadata": {
        "id": "view-in-github",
        "colab_type": "text"
      },
      "source": [
        "<a href=\"https://colab.research.google.com/github/dahee721/class2021Spring/blob/main/syntax.ipynb\" target=\"_parent\"><img src=\"https://colab.research.google.com/assets/colab-badge.svg\" alt=\"Open In Colab\"/></a>"
      ]
    },
    {
      "cell_type": "code",
      "metadata": {
        "colab": {
          "base_uri": "https://localhost:8080/"
        },
        "id": "dALU7TlnPhN8",
        "outputId": "18471590-2ecf-486f-b06e-4e5adb5e5fe7"
      },
      "source": [
        "a = [1, 2, 3, 4]\n",
        "for i in a:\n",
        "    print(i)"
      ],
      "execution_count": null,
      "outputs": [
        {
          "output_type": "stream",
          "text": [
            "1\n",
            "2\n",
            "3\n",
            "4\n"
          ],
          "name": "stdout"
        }
      ]
    },
    {
      "cell_type": "code",
      "metadata": {
        "id": "RVI3b-G0eThn",
        "colab": {
          "base_uri": "https://localhost:8080/"
        },
        "outputId": "60ccbcc5-113c-4856-9aa6-23d0efe3d557"
      },
      "source": [
        "a = (1, 2, 3, 4)\n",
        "for i in a:\n",
        "    print(i)"
      ],
      "execution_count": null,
      "outputs": [
        {
          "output_type": "stream",
          "text": [
            "1\n",
            "2\n",
            "3\n",
            "4\n"
          ],
          "name": "stdout"
        }
      ]
    },
    {
      "cell_type": "code",
      "metadata": {
        "id": "6WyJjBtIeX7d",
        "colab": {
          "base_uri": "https://localhost:8080/"
        },
        "outputId": "dde343e2-8c5d-4dd6-bb2b-3c1b9711fa5e"
      },
      "source": [
        "a = '1234'\n",
        "for i in a:\n",
        "    print(i)"
      ],
      "execution_count": null,
      "outputs": [
        {
          "output_type": "stream",
          "text": [
            "1\n",
            "2\n",
            "3\n",
            "4\n"
          ],
          "name": "stdout"
        }
      ]
    },
    {
      "cell_type": "code",
      "metadata": {
        "id": "XSCQNCWaa2OT",
        "colab": {
          "base_uri": "https://localhost:8080/"
        },
        "outputId": "ed87d6d1-44a4-47d1-ad55-4769c20aa1ff"
      },
      "source": [
        "a = [1, 2, 33, '120','tree']\n",
        "for i in range(3):                     #range(3)은 0,1,2 총 3개의 숫자를 만든다\n",
        "    print(a[i])                        #따라서 print(a[i])를 통해 a의 0번째, 1번째, 2번째를 프린트한다. "
      ],
      "execution_count": null,
      "outputs": [
        {
          "output_type": "stream",
          "text": [
            "1\n",
            "2\n",
            "33\n"
          ],
          "name": "stdout"
        }
      ]
    },
    {
      "cell_type": "code",
      "metadata": {
        "colab": {
          "base_uri": "https://localhost:8080/"
        },
        "id": "84DSz_TLPs4W",
        "outputId": "e3158220-f69a-4a2f-f50c-fd898d4e7bfe"
      },
      "source": [
        "a = [1, 2, 3, 4, 5, 6, 7]\n",
        "for i in range(len(a)):                 #len(a)는 a의 길이를 물어보는 것이다. len(a)=7\n",
        "    print(a[i])"
      ],
      "execution_count": null,
      "outputs": [
        {
          "output_type": "stream",
          "text": [
            "1\n",
            "2\n",
            "3\n",
            "4\n",
            "5\n",
            "6\n",
            "7\n"
          ],
          "name": "stdout"
        }
      ]
    },
    {
      "cell_type": "code",
      "metadata": {
        "id": "27aPOGDEW4as",
        "outputId": "040454be-11c4-43c0-f1b7-579434aecfdb",
        "colab": {
          "base_uri": "https://localhost:8080/"
        }
      },
      "source": [
        "a=[1,2,3,4,5,6,7,8,9,10]\n",
        "for i in range(0,4):                             #range(0,4)=range(4) 0부터 4이전까지\n",
        "    print(a[i])"
      ],
      "execution_count": 1,
      "outputs": [
        {
          "output_type": "stream",
          "text": [
            "1\n",
            "2\n",
            "3\n",
            "4\n"
          ],
          "name": "stdout"
        }
      ]
    },
    {
      "cell_type": "code",
      "metadata": {
        "id": "_ZqtwJ4-XJx3",
        "outputId": "43858b33-b1b2-485d-f5fb-d46958949fab",
        "colab": {
          "base_uri": "https://localhost:8080/"
        }
      },
      "source": [
        "a=[1,2,3,4,5,6,7,8,9,10]\n",
        "for i in range(4):\n",
        "    print(a[i])"
      ],
      "execution_count": 2,
      "outputs": [
        {
          "output_type": "stream",
          "text": [
            "1\n",
            "2\n",
            "3\n",
            "4\n"
          ],
          "name": "stdout"
        }
      ]
    },
    {
      "cell_type": "code",
      "metadata": {
        "id": "7PVytViaXQuJ",
        "outputId": "ef65b815-50c6-4809-ed27-910723f1b3ad",
        "colab": {
          "base_uri": "https://localhost:8080/"
        }
      },
      "source": [
        "a=[11,12,13,14,15,16,17,18,19,20]\n",
        "for i in range(0,4,2):                     #range(0,4,2)는 0부터 4이전까지 2칸씩 띄기\n",
        "    print(a[i])"
      ],
      "execution_count": 4,
      "outputs": [
        {
          "output_type": "stream",
          "text": [
            "11\n",
            "13\n"
          ],
          "name": "stdout"
        }
      ]
    },
    {
      "cell_type": "code",
      "metadata": {
        "colab": {
          "base_uri": "https://localhost:8080/"
        },
        "id": "QD3-ObytPyjO",
        "outputId": "7b033e5a-2e81-43c0-a34d-f22c1790ff38"
      },
      "source": [
        "a = ['red', 'green', 'blue', 'purple']\n",
        "for i in a:\n",
        "    print(i)"
      ],
      "execution_count": null,
      "outputs": [
        {
          "output_type": "stream",
          "text": [
            "red\n",
            "green\n",
            "blue\n",
            "purple\n"
          ],
          "name": "stdout"
        }
      ]
    },
    {
      "cell_type": "code",
      "metadata": {
        "colab": {
          "base_uri": "https://localhost:8080/"
        },
        "id": "s37qSRu6P2z2",
        "outputId": "2e81c957-a870-463a-8efd-b123a30354f1"
      },
      "source": [
        "a = ['red', 'green', 'blue', 'purple']\n",
        "for i in range(len(a)):\n",
        "    print(a[i])"
      ],
      "execution_count": null,
      "outputs": [
        {
          "output_type": "stream",
          "text": [
            "red\n",
            "green\n",
            "blue\n",
            "purple\n"
          ],
          "name": "stdout"
        }
      ]
    },
    {
      "cell_type": "code",
      "metadata": {
        "colab": {
          "base_uri": "https://localhost:8080/"
        },
        "id": "pbBHMMhGP6fh",
        "outputId": "0491fe25-e6f5-4411-9b1b-a995b579725b"
      },
      "source": [
        "a = [\"red\", \"green\", \"blue\", \"purple\"]\n",
        "b = [0.2, 0.3, 0.1, 0.4]\n",
        "for i, a_ in enumerate(a):\n",
        "    print(\"{}: {}%\".format(a_, b[i]*100))"
      ],
      "execution_count": null,
      "outputs": [
        {
          "output_type": "stream",
          "text": [
            "red: 20.0%\n",
            "green: 30.0%\n",
            "blue: 10.0%\n",
            "purple: 40.0%\n"
          ],
          "name": "stdout"
        }
      ]
    },
    {
      "cell_type": "code",
      "metadata": {
        "colab": {
          "base_uri": "https://localhost:8080/"
        },
        "id": "onpkHkpxP-P7",
        "outputId": "a24d6ab7-0b2e-466f-8590-52e39cd62ad9"
      },
      "source": [
        "a = [\"red\", \"green\", \"blue\", \"purple\"]\n",
        "b = [0.2, 0.3, 0.1, 0.4]\n",
        "for a_, b_ in zip(a, b):\n",
        "    print(\"{}: {}%\".format(a_, b_*100))"
      ],
      "execution_count": null,
      "outputs": [
        {
          "output_type": "stream",
          "text": [
            "red: 20.0%\n",
            "green: 30.0%\n",
            "blue: 10.0%\n",
            "purple: 40.0%\n"
          ],
          "name": "stdout"
        }
      ]
    },
    {
      "cell_type": "code",
      "metadata": {
        "colab": {
          "base_uri": "https://localhost:8080/"
        },
        "id": "b1AKaLjdQCPO",
        "outputId": "188e7a5c-8c39-4226-a86c-e3494feb09f1"
      },
      "source": [
        "a = 0                                                         # =은 오른쪽 값을 왼쪽에 assign\n",
        "if a == 0:                                                    # ==은 진짜 같다는 의미\n",
        "    print(a)\n",
        "else:\n",
        "    print(a+1)"
      ],
      "execution_count": null,
      "outputs": [
        {
          "output_type": "stream",
          "text": [
            "0\n"
          ],
          "name": "stdout"
        }
      ]
    },
    {
      "cell_type": "code",
      "metadata": {
        "id": "NGs-GDfbYuek",
        "outputId": "b95631b0-797d-4ff1-ee4b-8324c255f67b",
        "colab": {
          "base_uri": "https://localhost:8080/"
        }
      },
      "source": [
        "a=10\n",
        "if a ==12:\n",
        "    print(a)\n",
        "else:\n",
        "    print(a+15)"
      ],
      "execution_count": 5,
      "outputs": [
        {
          "output_type": "stream",
          "text": [
            "25\n"
          ],
          "name": "stdout"
        }
      ]
    },
    {
      "cell_type": "code",
      "metadata": {
        "colab": {
          "base_uri": "https://localhost:8080/"
        },
        "id": "cnllTlySQFxM",
        "outputId": "79383f2d-2ba5-477a-ff72-8f1a69eab934"
      },
      "source": [
        "for i in range(1, 3):\n",
        "    for j in range(3, 5):\n",
        "        print(i*j)"
      ],
      "execution_count": null,
      "outputs": [
        {
          "output_type": "stream",
          "text": [
            "3\n",
            "4\n",
            "6\n",
            "8\n"
          ],
          "name": "stdout"
        }
      ]
    },
    {
      "cell_type": "code",
      "metadata": {
        "colab": {
          "base_uri": "https://localhost:8080/"
        },
        "id": "qRLln39PQJh8",
        "outputId": "853b8334-1ff3-4ef9-baa1-4bb992ee4819"
      },
      "source": [
        "for i in range(1, 3):\n",
        "    for j in range(3, 5):\n",
        "        if j >=4:\n",
        "            print(i*j)"
      ],
      "execution_count": null,
      "outputs": [
        {
          "output_type": "stream",
          "text": [
            "4\n",
            "8\n"
          ],
          "name": "stdout"
        }
      ]
    },
    {
      "cell_type": "code",
      "metadata": {
        "colab": {
          "base_uri": "https://localhost:8080/"
        },
        "id": "YeNH_9JEQNAF",
        "outputId": "1199a7e4-11e7-4860-f353-f58ec787f2f5"
      },
      "source": [
        "a = [1, 2, 3, 4]\n",
        "b = [i for i in a if i >=2]\n",
        "b"
      ],
      "execution_count": null,
      "outputs": [
        {
          "output_type": "execute_result",
          "data": {
            "text/plain": [
              "[2, 3, 4]"
            ]
          },
          "metadata": {
            "tags": []
          },
          "execution_count": 12
        }
      ]
    },
    {
      "cell_type": "code",
      "metadata": {
        "colab": {
          "base_uri": "https://localhost:8080/"
        },
        "id": "Wsvvb401QPd5",
        "outputId": "7e270d9d-70b0-435b-9608-13fb72ace465"
      },
      "source": [
        "a = ['red', 'green', 'blue', 'purple']\n",
        "b = [i for i in a if len(i) >=4]\n",
        "b"
      ],
      "execution_count": null,
      "outputs": [
        {
          "output_type": "execute_result",
          "data": {
            "text/plain": [
              "['green', 'blue', 'purple']"
            ]
          },
          "metadata": {
            "tags": []
          },
          "execution_count": 13
        }
      ]
    }
  ]
}