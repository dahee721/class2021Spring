{
  "nbformat": 4,
  "nbformat_minor": 0,
  "metadata": {
    "colab": {
      "name": "Untitled1.ipynb",
      "provenance": [],
      "authorship_tag": "ABX9TyPYCUobGbeT26p9mJI3BQ6y",
      "include_colab_link": true
    },
    "kernelspec": {
      "name": "python3",
      "display_name": "Python 3"
    }
  },
  "cells": [
    {
      "cell_type": "markdown",
      "metadata": {
        "id": "view-in-github",
        "colab_type": "text"
      },
      "source": [
        "<a href=\"https://colab.research.google.com/github/dahee721/class2021Spring/blob/main/syntax.ipynb\" target=\"_parent\"><img src=\"https://colab.research.google.com/assets/colab-badge.svg\" alt=\"Open In Colab\"/></a>"
      ]
    },
    {
      "cell_type": "code",
      "metadata": {
        "colab": {
          "base_uri": "https://localhost:8080/"
        },
        "id": "dALU7TlnPhN8",
        "outputId": "ac59c5d2-28d2-4d77-c18f-cabfa0c38e26"
      },
      "source": [
        "a = [1, 2, 3, 4]\r\n",
        "for i in a:\r\n",
        "    print(i)\r\n"
      ],
      "execution_count": 3,
      "outputs": [
        {
          "output_type": "stream",
          "text": [
            "1\n",
            "2\n",
            "3\n",
            "4\n"
          ],
          "name": "stdout"
        }
      ]
    },
    {
      "cell_type": "code",
      "metadata": {
        "colab": {
          "base_uri": "https://localhost:8080/"
        },
        "id": "84DSz_TLPs4W",
        "outputId": "9cd21360-c76e-40bb-d8bc-f61ce1fbdcd2"
      },
      "source": [
        "a = [1, 2, 3, 4]\r\n",
        "for i in range(len(a)):\r\n",
        "    print(a[i])"
      ],
      "execution_count": 4,
      "outputs": [
        {
          "output_type": "stream",
          "text": [
            "1\n",
            "2\n",
            "3\n",
            "4\n"
          ],
          "name": "stdout"
        }
      ]
    },
    {
      "cell_type": "code",
      "metadata": {
        "colab": {
          "base_uri": "https://localhost:8080/"
        },
        "id": "QD3-ObytPyjO",
        "outputId": "7b033e5a-2e81-43c0-a34d-f22c1790ff38"
      },
      "source": [
        "a = ['red', 'green', 'blue', 'purple']\r\n",
        "for i in a:\r\n",
        "    print(i)"
      ],
      "execution_count": 5,
      "outputs": [
        {
          "output_type": "stream",
          "text": [
            "red\n",
            "green\n",
            "blue\n",
            "purple\n"
          ],
          "name": "stdout"
        }
      ]
    },
    {
      "cell_type": "code",
      "metadata": {
        "colab": {
          "base_uri": "https://localhost:8080/"
        },
        "id": "s37qSRu6P2z2",
        "outputId": "2e81c957-a870-463a-8efd-b123a30354f1"
      },
      "source": [
        "a = ['red', 'green', 'blue', 'purple']\r\n",
        "for i in range(len(a)):\r\n",
        "    print(a[i])"
      ],
      "execution_count": 6,
      "outputs": [
        {
          "output_type": "stream",
          "text": [
            "red\n",
            "green\n",
            "blue\n",
            "purple\n"
          ],
          "name": "stdout"
        }
      ]
    },
    {
      "cell_type": "code",
      "metadata": {
        "colab": {
          "base_uri": "https://localhost:8080/"
        },
        "id": "pbBHMMhGP6fh",
        "outputId": "0491fe25-e6f5-4411-9b1b-a995b579725b"
      },
      "source": [
        "a = [\"red\", \"green\", \"blue\", \"purple\"]\r\n",
        "b = [0.2, 0.3, 0.1, 0.4]\r\n",
        "for i, a_ in enumerate(a):\r\n",
        "    print(\"{}: {}%\".format(a_, b[i]*100))"
      ],
      "execution_count": 7,
      "outputs": [
        {
          "output_type": "stream",
          "text": [
            "red: 20.0%\n",
            "green: 30.0%\n",
            "blue: 10.0%\n",
            "purple: 40.0%\n"
          ],
          "name": "stdout"
        }
      ]
    },
    {
      "cell_type": "code",
      "metadata": {
        "colab": {
          "base_uri": "https://localhost:8080/"
        },
        "id": "onpkHkpxP-P7",
        "outputId": "a24d6ab7-0b2e-466f-8590-52e39cd62ad9"
      },
      "source": [
        "a = [\"red\", \"green\", \"blue\", \"purple\"]\r\n",
        "b = [0.2, 0.3, 0.1, 0.4]\r\n",
        "for a_, b_ in zip(a, b):\r\n",
        "    print(\"{}: {}%\".format(a_, b_*100))"
      ],
      "execution_count": 8,
      "outputs": [
        {
          "output_type": "stream",
          "text": [
            "red: 20.0%\n",
            "green: 30.0%\n",
            "blue: 10.0%\n",
            "purple: 40.0%\n"
          ],
          "name": "stdout"
        }
      ]
    },
    {
      "cell_type": "code",
      "metadata": {
        "colab": {
          "base_uri": "https://localhost:8080/"
        },
        "id": "b1AKaLjdQCPO",
        "outputId": "188e7a5c-8c39-4226-a86c-e3494feb09f1"
      },
      "source": [
        "a = 0\r\n",
        "if a == 0:\r\n",
        "    print(a)\r\n",
        "else:\r\n",
        "    print(a+1)"
      ],
      "execution_count": 9,
      "outputs": [
        {
          "output_type": "stream",
          "text": [
            "0\n"
          ],
          "name": "stdout"
        }
      ]
    },
    {
      "cell_type": "code",
      "metadata": {
        "colab": {
          "base_uri": "https://localhost:8080/"
        },
        "id": "cnllTlySQFxM",
        "outputId": "79383f2d-2ba5-477a-ff72-8f1a69eab934"
      },
      "source": [
        "for i in range(1, 3):\r\n",
        "    for j in range(3, 5):\r\n",
        "        print(i*j)"
      ],
      "execution_count": 10,
      "outputs": [
        {
          "output_type": "stream",
          "text": [
            "3\n",
            "4\n",
            "6\n",
            "8\n"
          ],
          "name": "stdout"
        }
      ]
    },
    {
      "cell_type": "code",
      "metadata": {
        "colab": {
          "base_uri": "https://localhost:8080/"
        },
        "id": "qRLln39PQJh8",
        "outputId": "853b8334-1ff3-4ef9-baa1-4bb992ee4819"
      },
      "source": [
        "for i in range(1, 3):\r\n",
        "    for j in range(3, 5):\r\n",
        "        if j >=4:\r\n",
        "            print(i*j)"
      ],
      "execution_count": 11,
      "outputs": [
        {
          "output_type": "stream",
          "text": [
            "4\n",
            "8\n"
          ],
          "name": "stdout"
        }
      ]
    },
    {
      "cell_type": "code",
      "metadata": {
        "colab": {
          "base_uri": "https://localhost:8080/"
        },
        "id": "YeNH_9JEQNAF",
        "outputId": "1199a7e4-11e7-4860-f353-f58ec787f2f5"
      },
      "source": [
        "a = [1, 2, 3, 4]\r\n",
        "b = [i for i in a if i >=2]\r\n",
        "b"
      ],
      "execution_count": 12,
      "outputs": [
        {
          "output_type": "execute_result",
          "data": {
            "text/plain": [
              "[2, 3, 4]"
            ]
          },
          "metadata": {
            "tags": []
          },
          "execution_count": 12
        }
      ]
    },
    {
      "cell_type": "code",
      "metadata": {
        "colab": {
          "base_uri": "https://localhost:8080/"
        },
        "id": "Wsvvb401QPd5",
        "outputId": "7e270d9d-70b0-435b-9608-13fb72ace465"
      },
      "source": [
        "a = ['red', 'green', 'blue', 'purple']\r\n",
        "b = [i for i in a if len(i) >=4]\r\n",
        "b"
      ],
      "execution_count": 13,
      "outputs": [
        {
          "output_type": "execute_result",
          "data": {
            "text/plain": [
              "['green', 'blue', 'purple']"
            ]
          },
          "metadata": {
            "tags": []
          },
          "execution_count": 13
        }
      ]
    }
  ]
}