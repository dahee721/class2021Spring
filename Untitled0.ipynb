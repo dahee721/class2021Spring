{
  "nbformat": 4,
  "nbformat_minor": 0,
  "metadata": {
    "colab": {
      "name": "Untitled0.ipynb",
      "provenance": [],
      "authorship_tag": "ABX9TyOA3COE+mJiCXvsR5lHvykU",
      "include_colab_link": true
    },
    "kernelspec": {
      "name": "python3",
      "display_name": "Python 3"
    }
  },
  "cells": [
    {
      "cell_type": "markdown",
      "metadata": {
        "id": "view-in-github",
        "colab_type": "text"
      },
      "source": [
        "<a href=\"https://colab.research.google.com/github/dahee721/class2021Spring/blob/main/Untitled0.ipynb\" target=\"_parent\"><img src=\"https://colab.research.google.com/assets/colab-badge.svg\" alt=\"Open In Colab\"/></a>"
      ]
    },
    {
      "cell_type": "code",
      "metadata": {
        "id": "_OgqZ0p8pAFk"
      },
      "source": [
        ""
      ],
      "execution_count": null,
      "outputs": []
    },
    {
      "cell_type": "markdown",
      "metadata": {
        "id": "cTtfgqg7pA10"
      },
      "source": [
        "# **변수**\r\n",
        "사람의 언어에서 단어가 컴퓨터 언어의 변수에 해당된다.\r\n",
        "변수란 내용이 assign 되는 것이다.\r\n",
        "\r\n",
        "ex) a=1 이면 1이라는 내용이 a라는 변수에 assign 된다.\r\n",
        "\r\n",
        "# **제어문**\r\n",
        "사람의 언어에서 문법이 컴퓨터 언어의 제어문에 해당된다.\r\n",
        "제어문의 종류에는 반복과 조건이 있다.\r\n",
        "\r\n",
        "1.   반복 : for\r\n",
        "2.   조건 : if\r\n",
        "\r\n",
        "for 과 if 는 모든 컴퓨터 언어에 포함되어 있다.\r\n",
        "\r\n",
        "# **함수**\r\n",
        "함수는 입출력 관계에서 나타나는 변화이다. \r\n",
        "y=f(x) 라는 함수식에서 y가 출력값이며 x가 입력값이다. \r\n",
        "\r\n",
        "ex) a=1, b=2, a+b 에서 a+b를 c=a+b 라는 함수로 만들고 function add 라고 이름을 붙일 수 있다.\r\n"
      ]
    }
  ]
}