{
  "nbformat": 4,
  "nbformat_minor": 0,
  "metadata": {
    "colab": {
      "name": "Untitled5.ipynb",
      "provenance": [],
      "authorship_tag": "ABX9TyN6+HdF0VE9Isck2GifKTNb",
      "include_colab_link": true
    },
    "kernelspec": {
      "name": "python3",
      "display_name": "Python 3"
    }
  },
  "cells": [
    {
      "cell_type": "markdown",
      "metadata": {
        "id": "view-in-github",
        "colab_type": "text"
      },
      "source": [
        "<a href=\"https://colab.research.google.com/github/dahee721/class2021Spring/blob/main/20210317.ipynb\" target=\"_parent\"><img src=\"https://colab.research.google.com/assets/colab-badge.svg\" alt=\"Open In Colab\"/></a>"
      ]
    },
    {
      "cell_type": "code",
      "metadata": {
        "colab": {
          "base_uri": "https://localhost:8080/"
        },
        "id": "JSuv33MKuctb",
        "outputId": "6baaa6a7-a687-424c-e5f7-b004838afd48"
      },
      "source": [
        "for i in range (0, 5):\r\n",
        "  for j in range(2,4):\r\n",
        "    print(i*j)"
      ],
      "execution_count": 3,
      "outputs": [
        {
          "output_type": "stream",
          "text": [
            "0\n",
            "0\n",
            "2\n",
            "3\n",
            "4\n",
            "6\n",
            "6\n",
            "9\n",
            "8\n",
            "12\n"
          ],
          "name": "stdout"
        }
      ]
    },
    {
      "cell_type": "code",
      "metadata": {
        "colab": {
          "base_uri": "https://localhost:8080/"
        },
        "id": "owht8srcu5_i",
        "outputId": "f44824bc-be5b-4950-8e65-ea5b086f7dfd"
      },
      "source": [
        "a=['12','125','170','1456','1800','20000']\r\n",
        "b=[i for i in a if len(i)>=3]\r\n",
        "b"
      ],
      "execution_count": 6,
      "outputs": [
        {
          "output_type": "execute_result",
          "data": {
            "text/plain": [
              "['125', '170', '1456', '1800', '20000']"
            ]
          },
          "metadata": {
            "tags": []
          },
          "execution_count": 6
        }
      ]
    }
  ]
}