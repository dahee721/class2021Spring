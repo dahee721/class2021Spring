{
  "nbformat": 4,
  "nbformat_minor": 0,
  "metadata": {
    "colab": {
      "name": "Untitled3.ipynb",
      "provenance": [],
      "authorship_tag": "ABX9TyPtjgbo2vb47yPcEeLKR2LM",
      "include_colab_link": true
    },
    "kernelspec": {
      "name": "python3",
      "display_name": "Python 3"
    }
  },
  "cells": [
    {
      "cell_type": "markdown",
      "metadata": {
        "id": "view-in-github",
        "colab_type": "text"
      },
      "source": [
        "<a href=\"https://colab.research.google.com/github/dahee721/class2021Spring/blob/main/function.ipynb\" target=\"_parent\"><img src=\"https://colab.research.google.com/assets/colab-badge.svg\" alt=\"Open In Colab\"/></a>"
      ]
    },
    {
      "cell_type": "code",
      "metadata": {
        "id": "_PAbZ9NlSNre"
      },
      "source": [
        "def add(a,b):\r\n",
        "  return a+b\r\n",
        "\r\n",
        "def subtract(a,b):\r\n",
        "  return a-b\r\n",
        "\r\n",
        "def multiply(a,b):\r\n",
        "  return a*b\r\n",
        "\r\n",
        "def divide(a,b):\r\n",
        "  return a/b"
      ],
      "execution_count": 2,
      "outputs": []
    },
    {
      "cell_type": "code",
      "metadata": {
        "colab": {
          "base_uri": "https://localhost:8080/"
        },
        "id": "rK3CpEd5SSUO",
        "outputId": "8d42e4a6-fd19-4f3a-a023-6ca382b7476f"
      },
      "source": [
        "c = add(1,2); print(c)\r\n",
        "c = subtract(1,2); print(c)\r\n",
        "c = multiply(1,2); print(c)\r\n",
        "c = divide(1,2); print(c)"
      ],
      "execution_count": 3,
      "outputs": [
        {
          "output_type": "stream",
          "text": [
            "3\n",
            "-1\n",
            "2\n",
            "0.5\n"
          ],
          "name": "stdout"
        }
      ]
    }
  ]
}