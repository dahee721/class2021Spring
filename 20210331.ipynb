{
  "nbformat": 4,
  "nbformat_minor": 0,
  "metadata": {
    "colab": {
      "name": "Untitled2.ipynb",
      "provenance": [],
      "authorship_tag": "ABX9TyPsJ5g8E/MQAZC6izC9GTEH",
      "include_colab_link": true
    },
    "kernelspec": {
      "name": "python3",
      "display_name": "Python 3"
    },
    "language_info": {
      "name": "python"
    }
  },
  "cells": [
    {
      "cell_type": "markdown",
      "metadata": {
        "id": "view-in-github",
        "colab_type": "text"
      },
      "source": [
        "<a href=\"https://colab.research.google.com/github/dahee721/class2021Spring/blob/main/20210331.ipynb\" target=\"_parent\"><img src=\"https://colab.research.google.com/assets/colab-badge.svg\" alt=\"Open In Colab\"/></a>"
      ]
    },
    {
      "cell_type": "markdown",
      "metadata": {
        "id": "8Ue2QVIU4eF-"
      },
      "source": [
        "a sound \n",
        "\n",
        "1. pitch 222.9Hz\n",
        "2. intensity 70.51dB\n",
        "3. formant 734.3Hz, 1245Hz\n",
        "4. duration 0.414 second\n",
        "\n",
        "\n",
        "ae sound pitch   intensity      formant            duration\n",
        "\n",
        "1. pitch  231.1Hz\n",
        "2. intensity 69.06dB\n",
        "3. formant 479.2Hz, 2361Hz\n",
        "4. duration 0.423 second\n",
        "\n",
        "\n",
        "\n",
        "  1819Hz   69.06dB    479.2Hz, 2361Hz       0.423 second"
      ]
    }
  ]
}